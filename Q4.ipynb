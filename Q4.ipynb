{
 "cells": [
  {
   "cell_type": "markdown",
   "metadata": {},
   "source": [
    "# Assignment 2 - Q04"
   ]
  },
  {
   "cell_type": "markdown",
   "metadata": {},
   "source": [
    "1. Data Preparation and Preprocessing\n",
    "2. CycleGAN Architecture\n",
    "- Generator Network Design\n",
    "-  Discriminator Network Design\n",
    "- Cycle Consistency Mechanism\n",
    "3. Training Procedure and Optimization\n",
    "4. UI Development (Design and Functionality, Realtime Image Conversion, UI Responsiveness and Usability)\n"
   ]
  },
  {
   "cell_type": "code",
   "execution_count": null,
   "metadata": {},
   "outputs": [],
   "source": []
  }
 ],
 "metadata": {
  "language_info": {
   "name": "python"
  }
 },
 "nbformat": 4,
 "nbformat_minor": 2
}
